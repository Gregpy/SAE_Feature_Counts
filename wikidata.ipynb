{
 "cells": [
  {
   "cell_type": "code",
   "execution_count": null,
   "id": "56354095-cd05-4971-bf1b-567e60e7a19d",
   "metadata": {},
   "outputs": [],
   "source": [
    "# !pip install datasets wikipedia"
   ]
  },
  {
   "cell_type": "code",
   "execution_count": 4,
   "id": "615549ed-4bb0-4842-873d-aa8412179ed1",
   "metadata": {},
   "outputs": [],
   "source": [
    "from datasets import load_dataset, concatenate_datasets\n",
    "import wikipedia\n",
    "from datasets import Dataset, DatasetDict"
   ]
  },
  {
   "cell_type": "code",
   "execution_count": 29,
   "id": "9b49076e-aab6-42a4-ad72-216d0535b894",
   "metadata": {},
   "outputs": [],
   "source": [
    "\n",
    "\n",
    "def get_wikipedia_data(topic):\n",
    "    \"\"\"\n",
    "    Search for topic in wikipedia\n",
    "    get the text and metadata for the matching categories\n",
    "    return a list of that, skip errors\n",
    "    \"\"\"\n",
    "    results = wikipedia.search(topic)\n",
    "    inuit_data = []\n",
    "\n",
    "    for result in results:\n",
    "        try:\n",
    "            page = wikipedia.page(result)\n",
    "            categories = page.categories\n",
    "            if any(topic in category.lower() for category in categories):\n",
    "                inuit_data.append({\n",
    "                    \"title\": page.title,\n",
    "                    \"text\": page.content,\n",
    "                    \"categories\": categories\n",
    "                })\n",
    "        except (wikipedia.exceptions.PageError, wikipedia.exceptions.DisambiguationError):\n",
    "            continue\n",
    "\n",
    "    return inuit_data\n"
   ]
  },
  {
   "cell_type": "code",
   "execution_count": 30,
   "id": "40b16bfc-8175-4a58-9acd-c394b003ab48",
   "metadata": {},
   "outputs": [],
   "source": [
    "\n",
    "def create_huggingface_dataset(data):\n",
    "    return Dataset.from_list(data)"
   ]
  },
  {
   "cell_type": "code",
   "execution_count": 31,
   "id": "2c9214ea-3ebc-4f2e-9737-43747bce211f",
   "metadata": {},
   "outputs": [
    {
     "name": "stdout",
     "output_type": "stream",
     "text": [
      "DatasetDict({\n",
      "    train: Dataset({\n",
      "        features: ['title', 'text', 'categories'],\n",
      "        num_rows: 7\n",
      "    })\n",
      "})\n"
     ]
    }
   ],
   "source": [
    "# get inuit wikipedia data and print info\n",
    "inuit_data = get_wikipedia_data(\"inuit\")\n",
    "\n",
    "inuit_dataset = create_huggingface_dataset(inuit_data)\n",
    "dataset_dict = DatasetDict({\"train\": inuit_dataset})\n",
    "\n",
    "print(dataset_dict)\n"
   ]
  },
  {
   "cell_type": "code",
   "execution_count": 28,
   "id": "73b33d00-98a3-4f3c-b4fc-7284d0bca7d1",
   "metadata": {},
   "outputs": [
    {
     "name": "stdout",
     "output_type": "stream",
     "text": [
      "DatasetDict({\n",
      "    train: Dataset({\n",
      "        features: ['title', 'text', 'categories'],\n",
      "        num_rows: 9\n",
      "    })\n",
      "})\n"
     ]
    }
   ],
   "source": [
    "# get american wikipedia data and print info\n",
    "amer_data = get_wikipedia_data(\"american\")\n",
    "\n",
    "amer_dataset = create_huggingface_dataset(amer_data)\n",
    "dataset_dict = DatasetDict({\"train\": amer_dataset})\n",
    "\n",
    "print(dataset_dict)\n"
   ]
  },
  {
   "cell_type": "code",
   "execution_count": 40,
   "id": "316b5ab9-e6ce-4d97-af6c-312c5fc224d1",
   "metadata": {},
   "outputs": [],
   "source": [
    "# check # articles\n",
    "num_inuit_articles = len(inuit_dataset)\n",
    "num_amer_articles = len(amer_dataset)"
   ]
  },
  {
   "cell_type": "code",
   "execution_count": 41,
   "id": "0840848f-b7e2-47de-8b79-65b76077d6f1",
   "metadata": {},
   "outputs": [
    {
     "data": {
      "text/plain": [
       "(7, 9)"
      ]
     },
     "execution_count": 41,
     "metadata": {},
     "output_type": "execute_result"
    }
   ],
   "source": [
    "num_inuit_articles, num_amer_articles"
   ]
  },
  {
   "cell_type": "code",
   "execution_count": 42,
   "id": "1ad93cee-25b4-4603-86cb-cdaab1113a39",
   "metadata": {},
   "outputs": [],
   "source": [
    "# compare total text lengths\n",
    "inuit_length = sum(len(article[\"text\"]) for article in inuit_dataset)\n",
    "amer_length = sum(len(article[\"text\"]) for article in amer_dataset)"
   ]
  },
  {
   "cell_type": "code",
   "execution_count": 43,
   "id": "7bdbd033-65b4-4818-8a65-d4289dc8c7bb",
   "metadata": {},
   "outputs": [
    {
     "data": {
      "text/plain": [
       "(155665, 613454)"
      ]
     },
     "execution_count": 43,
     "metadata": {},
     "output_type": "execute_result"
    }
   ],
   "source": [
    "inuit_length, amer_length"
   ]
  },
  {
   "cell_type": "code",
   "execution_count": null,
   "id": "5bc80639-5912-4f19-84c6-c9e305d1c6dc",
   "metadata": {},
   "outputs": [
    {
     "name": "stderr",
     "output_type": "stream",
     "text": [
      "Calculating article lengths: 100%|██████████████████████████████████| 9/9 [00:00<00:00, 1794.74 examples/s]\n"
     ]
    }
   ],
   "source": [
    "# sort american articles by length and select the same number as inuit articles\n",
    "def get_article_length(article):\n",
    "    return {\"article_length\": len(article[\"text\"])}\n",
    "\n",
    "amer_dataset = amer_dataset.map(get_article_length, batched=False, desc=\"Calculating article lengths\")\n",
    "\n",
    "sorted_amer_dataset = amer_dataset.sort(\"article_length\", reverse=True)\n",
    "\n",
    "main_amer_dataset = sorted_amer_dataset.select(range(num_inuit_articles))\n",
    "\n",
    "\n"
   ]
  },
  {
   "cell_type": "code",
   "execution_count": null,
   "id": "e0f4eb63-390d-49dc-ba75-e2b9338e6f7a",
   "metadata": {},
   "outputs": [],
   "source": []
  },
  {
   "cell_type": "code",
   "execution_count": 46,
   "id": "a318833f-d908-4214-88ff-85bf7d97b076",
   "metadata": {},
   "outputs": [],
   "source": [
    "# calculate total text lengths\n",
    "inuit_length = sum(len(article[\"text\"]) for article in inuit_dataset)\n",
    "amer_length = sum(len(article[\"text\"]) for article in amer_dataset)\n",
    "main_amer_length = sum(len(article[\"text\"]) for article in main_amer_dataset)\n"
   ]
  },
  {
   "cell_type": "code",
   "execution_count": null,
   "id": "99ecad70-3403-4ee6-b3a1-978e65bbd0ff",
   "metadata": {},
   "outputs": [
    {
     "name": "stdout",
     "output_type": "stream",
     "text": [
      "Main american dataset total length: 580995 characters\n",
      "Inuit dataset total length: 155665 characters\n",
      "American dataset total length: 613454 characters\n"
     ]
    }
   ],
   "source": [
    "# compare american articles text lengths\n",
    "# cut to # of inuit articles and not, and inuit articles\n",
    "print(f\"Main american dataset total length: {main_amer_length} characters\")\n",
    "print(f\"Inuit dataset total length: {inuit_length} characters\")\n",
    "print(f\"American dataset total length: {amer_length} characters\")"
   ]
  },
  {
   "cell_type": "code",
   "execution_count": null,
   "id": "33c8f665-d348-4035-8880-2bdf75bc8921",
   "metadata": {},
   "outputs": [],
   "source": [
    "# calculate average inuit article length\n",
    "inuit_lengths = [len(article[\"text\"]) for article in inuit_dataset]\n",
    "avg_inuit_length = sum(inuit_lengths) / len(inuit_lengths)"
   ]
  },
  {
   "cell_type": "code",
   "execution_count": 50,
   "id": "d2d987ca-7b6d-4494-8c72-8f5f60ffeb9f",
   "metadata": {},
   "outputs": [],
   "source": [
    "# truncate american articles\n",
    "def truncate_american(article):\n",
    "    if len(article[\"text\"]) > avg_inuit_length:\n",
    "        article[\"text\"] = article[\"text\"][:int(avg_inuit_length)]\n",
    "    return article"
   ]
  },
  {
   "cell_type": "code",
   "execution_count": 51,
   "id": "4bc868d0-0ee2-4ea8-9356-a1f45cef57e8",
   "metadata": {},
   "outputs": [
    {
     "name": "stderr",
     "output_type": "stream",
     "text": [
      "Map: 100%|██████████████████████████████████████████████████████████| 7/7 [00:00<00:00, 1647.59 examples/s]\n"
     ]
    }
   ],
   "source": [
    "truncated_american_dataset = main_amer_dataset.map(truncate_american)"
   ]
  },
  {
   "cell_type": "code",
   "execution_count": 52,
   "id": "bb710588-dac9-4d81-8667-db761641b158",
   "metadata": {},
   "outputs": [],
   "source": [
    "# check truncated total text length of american texts\n",
    "truncated_american_length = sum(len(article[\"text\"]) for article in truncated_american_dataset)"
   ]
  },
  {
   "cell_type": "code",
   "execution_count": 53,
   "id": "dceb4b7e-1277-4ec7-9ccb-5e5d412fbaad",
   "metadata": {},
   "outputs": [
    {
     "name": "stdout",
     "output_type": "stream",
     "text": [
      "Inuit dataset total length: 155665 characters\n",
      "Truncated American dataset total length: 155659 characters\n"
     ]
    }
   ],
   "source": [
    "# check lengths match\n",
    "print(f\"Inuit dataset total length: {inuit_length} characters\")\n",
    "print(f\"Truncated American dataset total length: {truncated_american_length} characters\")"
   ]
  },
  {
   "cell_type": "code",
   "execution_count": null,
   "id": "2c7e95cd-2f3f-407b-b0a2-6b4acfc459a2",
   "metadata": {},
   "outputs": [],
   "source": [
    "# combine datasets\n",
    "combined_dataset = concatenate_datasets([inuit_dataset, truncated_american_dataset])\n",
    "\n",
    "# push each text dataset to hugging face\n",
    "# this may not be needed, but is a default for sae_lens (which we ended up not using)\n",
    "combined_dataset.push_to_hub(\"tcltcl/inuit-and-truncated-american-wikipedia\")"
   ]
  },
  {
   "cell_type": "code",
   "execution_count": null,
   "id": "7b112aaa-adf0-4820-93bd-85132249438c",
   "metadata": {},
   "outputs": [],
   "source": [
    "truncated_american_dataset.push_to_hub(\"tcltcl/truncated-american-wikipedia\")"
   ]
  },
  {
   "cell_type": "code",
   "execution_count": null,
   "id": "70fd001f-f11f-4bd9-a5a4-b5ef5595b5ea",
   "metadata": {},
   "outputs": [],
   "source": [
    "inuit_dataset.push_to_hub(\"tcltcl/inuit-wikipedia\")"
   ]
  },
  {
   "cell_type": "code",
   "execution_count": null,
   "id": "f39bb415-dd95-4601-bb6e-02e00b44ff79",
   "metadata": {},
   "outputs": [],
   "source": []
  },
  {
   "cell_type": "code",
   "execution_count": null,
   "id": "b3d6f6fc-f5e2-48a0-a9ac-a6ec01c4b3a9",
   "metadata": {},
   "outputs": [],
   "source": []
  }
 ],
 "metadata": {
  "kernelspec": {
   "display_name": "Python 3 (ipykernel)",
   "language": "python",
   "name": "python3"
  },
  "language_info": {
   "codemirror_mode": {
    "name": "ipython",
    "version": 3
   },
   "file_extension": ".py",
   "mimetype": "text/x-python",
   "name": "python",
   "nbconvert_exporter": "python",
   "pygments_lexer": "ipython3",
   "version": "3.12.2"
  }
 },
 "nbformat": 4,
 "nbformat_minor": 5
}
